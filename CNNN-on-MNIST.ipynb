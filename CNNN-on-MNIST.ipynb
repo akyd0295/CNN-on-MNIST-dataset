{
 "cells": [
  {
   "cell_type": "markdown",
   "metadata": {},
   "source": [
    "# Train a Deep Neural Network on MNIST Dataset and Try to achieve maximum accuracy "
   ]
  },
  {
   "cell_type": "code",
   "execution_count": 1,
   "metadata": {},
   "outputs": [],
   "source": [
    "import numpy as np\n",
    "import pandas as pd\n",
    "from tensorflow import keras"
   ]
  },
  {
   "cell_type": "markdown",
   "metadata": {},
   "source": [
    "### Load Kaggle Dataset"
   ]
  },
  {
   "cell_type": "markdown",
   "metadata": {},
   "source": [
    "We're going to use kaggle's mnist dataset for now but in real world scenerios we might not be that lucky to get all cleaned up and structured data. Usually the images would be noisy or curropted (some pixels are messed up).\n",
    "I have downloaded the data on my machine locally.You could also find at https://www.kaggle.com/c/digit-recognizer/data ."
   ]
  },
  {
   "cell_type": "code",
   "execution_count": 2,
   "metadata": {},
   "outputs": [],
   "source": [
    "train_data=pd.read_csv('../Data/digit-recognizer/train.csv')\n",
    "test_data=pd.read_csv('../Data/digit-recognizer/test.csv')"
   ]
  },
  {
   "cell_type": "markdown",
   "metadata": {},
   "source": [
    "### Data-Prepration"
   ]
  },
  {
   "cell_type": "markdown",
   "metadata": {},
   "source": [
    "Not much data prepration is required here as data is already structures and cleaned.\n",
    "Even if we know that there's no missing data but let's check it just in case."
   ]
  },
  {
   "cell_type": "code",
   "execution_count": 3,
   "metadata": {},
   "outputs": [
    {
     "data": {
      "text/plain": [
       "pixel783    0\n",
       "pixel267    0\n",
       "pixel265    0\n",
       "pixel264    0\n",
       "pixel263    0\n",
       "pixel262    0\n",
       "pixel261    0\n",
       "pixel260    0\n",
       "pixel259    0\n",
       "pixel258    0\n",
       "dtype: int64"
      ]
     },
     "execution_count": 3,
     "metadata": {},
     "output_type": "execute_result"
    }
   ],
   "source": [
    "#top 10 features with maximum missing values \n",
    "np.sum(train_data[train_data.columns].isna()).sort_values(ascending=False)[:10]"
   ]
  },
  {
   "cell_type": "markdown",
   "metadata": {},
   "source": [
    "see! no missing data here.\n",
    "now let's convert this data into numpy arrays. Why? ,because when numpy arrays provide more flexibility (that's how i feel) also, we'll be feeding our CNN matrix representstion of images (reshaping them to 28x28) which i feel is easier to do with numpy."
   ]
  },
  {
   "cell_type": "code",
   "execution_count": 4,
   "metadata": {},
   "outputs": [],
   "source": [
    "#first we need to saperate labels from image data\n",
    "train_label=train_data.label\n",
    "train_data.drop('label',inplace=True,axis=1)"
   ]
  },
  {
   "cell_type": "code",
   "execution_count": 5,
   "metadata": {},
   "outputs": [
    {
     "data": {
      "text/plain": [
       "((42000, 784), (42000,))"
      ]
     },
     "execution_count": 5,
     "metadata": {},
     "output_type": "execute_result"
    }
   ],
   "source": [
    "#just checking \n",
    "train_data.shape,train_label.shape"
   ]
  },
  {
   "cell_type": "code",
   "execution_count": 6,
   "metadata": {},
   "outputs": [],
   "source": [
    "#Now lets convert everything to numpy arrays\n",
    "x_train=np.array(train_data).reshape((-1,28,28))  # []x28x28\n",
    "y_train=np.array(train_label).reshape((-1,1))     # []x1\n",
    "x_test=np.array(test_data).reshape((-1,28,28))    # []x28x28"
   ]
  },
  {
   "cell_type": "markdown",
   "metadata": {},
   "source": [
    "We'll also need validation set to moniter validation loss during training our CNN, for this job we can use sklearn's **train_test_split** ."
   ]
  },
  {
   "cell_type": "code",
   "execution_count": 7,
   "metadata": {},
   "outputs": [],
   "source": [
    "from sklearn.model_selection import train_test_split\n",
    "\n",
    "x_train,x_val,y_train,y_val=train_test_split(x_train,y_train)"
   ]
  },
  {
   "cell_type": "code",
   "execution_count": 8,
   "metadata": {},
   "outputs": [
    {
     "data": {
      "text/plain": [
       "((31500, 28, 28), (28000, 28, 28), (10500, 28, 28), (31500, 1), (10500, 1))"
      ]
     },
     "execution_count": 8,
     "metadata": {},
     "output_type": "execute_result"
    }
   ],
   "source": [
    "x_train.shape,x_test.shape,x_val.shape,y_train.shape,y_val.shape"
   ]
  },
  {
   "cell_type": "markdown",
   "metadata": {},
   "source": [
    "Now we have numpy arrays every where, Such a nice place. Lets look at few random images and lets see how our data looks like."
   ]
  },
  {
   "cell_type": "code",
   "execution_count": 9,
   "metadata": {},
   "outputs": [
    {
     "data": {
      "image/png": "[encoded data removed]",
      "text/plain": [
       "<Figure size 432x288 with 3 Axes>"
      ]
     },
     "metadata": {
      "needs_background": "light"
     },
     "output_type": "display_data"
    }
   ],
   "source": [
    "import matplotlib.pyplot as plt\n",
    "%matplotlib inline\n",
    "\n",
    "for i in range(1,4):\n",
    "    plt.subplot(1,3,i)\n",
    "    plt.imshow(x_train[np.random.randint(x_train.shape[0])],cmap='gray')"
   ]
  },
  {
   "cell_type": "markdown",
   "metadata": {},
   "source": [
    "Well they do look like someone wrote them with hand"
   ]
  },
  {
   "cell_type": "markdown",
   "metadata": {},
   "source": [
    "Last step in data prep would be normalization as DNN (Deep Neural Nets) expects input between 0 and 1."
   ]
  },
  {
   "cell_type": "code",
   "execution_count": 10,
   "metadata": {},
   "outputs": [],
   "source": [
    "#This step is actually quite easy\n",
    "x_train=x_train/255\n",
    "x_test=x_test/255\n",
    "x_val=x_val/255"
   ]
  },
  {
   "cell_type": "markdown",
   "metadata": {},
   "source": [
    "### Build and test CNNs"
   ]
  },
  {
   "cell_type": "markdown",
   "metadata": {},
   "source": [
    "Here I'm skipping the process of fine-tunning hyperparameters, because I already have some idea of which one will be good enough from my past experiencw with this dataset.\n",
    "But if i had to explain how i found these hyper parameters which in this case are dropout rate and epochs (remember more hyperparameters you bring in the picture more will it be computationally expensive to do the exhaustive search, Therefore we should consider the performance vs cost trade-off at the begining of project) then it would be as follows:\n",
    "\n",
    "    1. Grid Search: As these small time projects are not that computationally expensive we can guess a few values for each hyperparameter and try out each combination.\n",
    "    2. Randomized Search: We can use this method when hyperparamer search space is too large for Grid Search. This method is same as Grid Search but instead of trying\n",
    "       all combinations we try given number of random combinations."
   ]
  },
  {
   "cell_type": "code",
   "execution_count": 11,
   "metadata": {},
   "outputs": [],
   "source": [
    "from tensorflow.keras.layers import Conv2D,Dense,ReLU,Softmax,AveragePooling2D,Dropout"
   ]
  },
  {
   "cell_type": "markdown",
   "metadata": {},
   "source": [
    "We need to reshape our images to (-1,28,28,1), where ***1*** signifies our image is gray scale, if our image would have been RGB the new shape would have been (-1,28,28,3) i.e. three color channels."
   ]
  },
  {
   "cell_type": "code",
   "execution_count": 12,
   "metadata": {},
   "outputs": [],
   "source": [
    "x_train=x_train.reshape(-1,28,28,1)\n",
    "x_test=x_test.reshape(-1,28,28,1)\n",
    "x_val=x_val.reshape(-1,28,28,1)"
   ]
  },
  {
   "cell_type": "code",
   "execution_count": 13,
   "metadata": {},
   "outputs": [
    {
     "name": "stderr",
     "output_type": "stream",
     "text": [
      "WARNING: Logging before flag parsing goes to stderr.\n",
      "W0811 19:15:16.388879 14520 deprecation.py:506] From E:\\Anaconda3\\lib\\site-packages\\tensorflow\\python\\ops\\init_ops.py:1251: calling VarianceScaling.__init__ (from tensorflow.python.ops.init_ops) with dtype is deprecated and will be removed in a future version.\n",
      "Instructions for updating:\n",
      "Call initializer instance with the dtype argument instead of passing it to the constructor\n"
     ]
    },
    {
     "name": "stdout",
     "output_type": "stream",
     "text": [
      "Train on 31500 samples, validate on 10500 samples\n",
      "Epoch 1/50\n",
      "31500/31500 [==============================] - 10s 324us/sample - loss: 0.5997 - acc: 0.8005 - val_loss: 0.1491 - val_acc: 0.9533\n",
      "Epoch 2/50\n",
      "31500/31500 [==============================] - 5s 166us/sample - loss: 0.2276 - acc: 0.9278 - val_loss: 0.0944 - val_acc: 0.9712\n",
      "Epoch 3/50\n",
      "31500/31500 [==============================] - 5s 168us/sample - loss: 0.1760 - acc: 0.9443 - val_loss: 0.0730 - val_acc: 0.9784\n",
      "Epoch 4/50\n",
      "31500/31500 [==============================] - 5s 163us/sample - loss: 0.1539 - acc: 0.9519 - val_loss: 0.0650 - val_acc: 0.9801\n",
      "Epoch 5/50\n",
      "31500/31500 [==============================] - 5s 160us/sample - loss: 0.1343 - acc: 0.9576 - val_loss: 0.0629 - val_acc: 0.9810\n",
      "Epoch 6/50\n",
      "31500/31500 [==============================] - 5s 158us/sample - loss: 0.1197 - acc: 0.9623 - val_loss: 0.0501 - val_acc: 0.9830\n",
      "Epoch 7/50\n",
      "31500/31500 [==============================] - 5s 167us/sample - loss: 0.1123 - acc: 0.9648 - val_loss: 0.0442 - val_acc: 0.9855\n",
      "Epoch 8/50\n",
      "31500/31500 [==============================] - 5s 163us/sample - loss: 0.1075 - acc: 0.9657 - val_loss: 0.0437 - val_acc: 0.9860\n",
      "Epoch 9/50\n",
      "31500/31500 [==============================] - 5s 168us/sample - loss: 0.1030 - acc: 0.9679 - val_loss: 0.0427 - val_acc: 0.9865\n",
      "Epoch 10/50\n",
      "31500/31500 [==============================] - 5s 164us/sample - loss: 0.1001 - acc: 0.9684 - val_loss: 0.0448 - val_acc: 0.9859\n",
      "Epoch 11/50\n",
      "31500/31500 [==============================] - 5s 161us/sample - loss: 0.0925 - acc: 0.9706 - val_loss: 0.0410 - val_acc: 0.9866\n",
      "Epoch 12/50\n",
      "31500/31500 [==============================] - 5s 168us/sample - loss: 0.0930 - acc: 0.9709 - val_loss: 0.0429 - val_acc: 0.9852\n",
      "Epoch 13/50\n",
      "31500/31500 [==============================] - 5s 165us/sample - loss: 0.0884 - acc: 0.9721 - val_loss: 0.0410 - val_acc: 0.9864\n",
      "Epoch 14/50\n",
      "31500/31500 [==============================] - 6s 179us/sample - loss: 0.0895 - acc: 0.9722 - val_loss: 0.0368 - val_acc: 0.9885\n",
      "Epoch 15/50\n",
      "31500/31500 [==============================] - 5s 170us/sample - loss: 0.0852 - acc: 0.9730 - val_loss: 0.0368 - val_acc: 0.9889\n",
      "Epoch 16/50\n",
      "31500/31500 [==============================] - 6s 175us/sample - loss: 0.0820 - acc: 0.9745 - val_loss: 0.0356 - val_acc: 0.9890\n",
      "Epoch 17/50\n",
      "31500/31500 [==============================] - 6s 182us/sample - loss: 0.0794 - acc: 0.9744 - val_loss: 0.0358 - val_acc: 0.9887\n",
      "Epoch 18/50\n",
      "31500/31500 [==============================] - 5s 167us/sample - loss: 0.0821 - acc: 0.9752 - val_loss: 0.0344 - val_acc: 0.9889\n",
      "Epoch 19/50\n",
      "31500/31500 [==============================] - 5s 163us/sample - loss: 0.0766 - acc: 0.9757 - val_loss: 0.0355 - val_acc: 0.9893\n",
      "Epoch 20/50\n",
      "31500/31500 [==============================] - 5s 168us/sample - loss: 0.0770 - acc: 0.9762 - val_loss: 0.0348 - val_acc: 0.9896\n",
      "Epoch 21/50\n",
      "31500/31500 [==============================] - 5s 164us/sample - loss: 0.0784 - acc: 0.9757 - val_loss: 0.0350 - val_acc: 0.9891\n",
      "Epoch 22/50\n",
      "31500/31500 [==============================] - 5s 165us/sample - loss: 0.0778 - acc: 0.9752 - val_loss: 0.0338 - val_acc: 0.9888\n",
      "Epoch 23/50\n",
      "31500/31500 [==============================] - 5s 165us/sample - loss: 0.0722 - acc: 0.9770 - val_loss: 0.0324 - val_acc: 0.9896\n",
      "Epoch 24/50\n",
      "31500/31500 [==============================] - 5s 168us/sample - loss: 0.0737 - acc: 0.9768 - val_loss: 0.0362 - val_acc: 0.9880\n",
      "Epoch 25/50\n",
      "31500/31500 [==============================] - 5s 166us/sample - loss: 0.0734 - acc: 0.9762 - val_loss: 0.0332 - val_acc: 0.9890\n",
      "Epoch 26/50\n",
      "31500/31500 [==============================] - 5s 170us/sample - loss: 0.0692 - acc: 0.9772 - val_loss: 0.0327 - val_acc: 0.9890\n",
      "Epoch 27/50\n",
      "31500/31500 [==============================] - 5s 168us/sample - loss: 0.0716 - acc: 0.9766 - val_loss: 0.0346 - val_acc: 0.9893\n",
      "Epoch 28/50\n",
      "31500/31500 [==============================] - 5s 170us/sample - loss: 0.0673 - acc: 0.9800 - val_loss: 0.0313 - val_acc: 0.9902\n",
      "Epoch 29/50\n",
      "31500/31500 [==============================] - 5s 169us/sample - loss: 0.0679 - acc: 0.9784 - val_loss: 0.0335 - val_acc: 0.9896\n",
      "Epoch 30/50\n",
      "31500/31500 [==============================] - 5s 172us/sample - loss: 0.0746 - acc: 0.9766 - val_loss: 0.0299 - val_acc: 0.9907\n",
      "Epoch 31/50\n",
      "31500/31500 [==============================] - 5s 173us/sample - loss: 0.0673 - acc: 0.9782 - val_loss: 0.0310 - val_acc: 0.9907\n",
      "Epoch 32/50\n",
      "31500/31500 [==============================] - 6s 177us/sample - loss: 0.0638 - acc: 0.9785 - val_loss: 0.0341 - val_acc: 0.9893\n",
      "Epoch 33/50\n",
      "31500/31500 [==============================] - 6s 179us/sample - loss: 0.0683 - acc: 0.9781 - val_loss: 0.0298 - val_acc: 0.9908\n",
      "Epoch 34/50\n",
      "31500/31500 [==============================] - 5s 169us/sample - loss: 0.0660 - acc: 0.9792 - val_loss: 0.0312 - val_acc: 0.9902\n",
      "Epoch 35/50\n",
      "31500/31500 [==============================] - 6s 175us/sample - loss: 0.0630 - acc: 0.9798 - val_loss: 0.0320 - val_acc: 0.9894\n",
      "Epoch 36/50\n",
      "31500/31500 [==============================] - 5s 164us/sample - loss: 0.0648 - acc: 0.9788 - val_loss: 0.0295 - val_acc: 0.9910\n",
      "Epoch 37/50\n",
      "31500/31500 [==============================] - 5s 163us/sample - loss: 0.0676 - acc: 0.9789 - val_loss: 0.0283 - val_acc: 0.9916\n",
      "Epoch 38/50\n",
      "31500/31500 [==============================] - 5s 163us/sample - loss: 0.0664 - acc: 0.9791 - val_loss: 0.0293 - val_acc: 0.9911\n",
      "Epoch 39/50\n",
      "31500/31500 [==============================] - 5s 164us/sample - loss: 0.0639 - acc: 0.9791 - val_loss: 0.0328 - val_acc: 0.9894\n",
      "Epoch 40/50\n",
      "31500/31500 [==============================] - 5s 164us/sample - loss: 0.0678 - acc: 0.9786 - val_loss: 0.0297 - val_acc: 0.9910\n",
      "Epoch 41/50\n",
      "31500/31500 [==============================] - 6s 180us/sample - loss: 0.0665 - acc: 0.9793 - val_loss: 0.0348 - val_acc: 0.9900\n",
      "Epoch 42/50\n",
      "31500/31500 [==============================] - 5s 172us/sample - loss: 0.0665 - acc: 0.9783 - val_loss: 0.0340 - val_acc: 0.9909\n",
      "Epoch 43/50\n",
      "31500/31500 [==============================] - 5s 166us/sample - loss: 0.0646 - acc: 0.9797 - val_loss: 0.0303 - val_acc: 0.9908\n",
      "Epoch 44/50\n",
      "31500/31500 [==============================] - 5s 173us/sample - loss: 0.0648 - acc: 0.9790 - val_loss: 0.0323 - val_acc: 0.9905\n",
      "Epoch 45/50\n",
      "31500/31500 [==============================] - 5s 167us/sample - loss: 0.0681 - acc: 0.9790 - val_loss: 0.0301 - val_acc: 0.9907\n",
      "Epoch 46/50\n",
      "31500/31500 [==============================] - 6s 175us/sample - loss: 0.0616 - acc: 0.9796 - val_loss: 0.0305 - val_acc: 0.9906\n",
      "Epoch 47/50\n",
      "31500/31500 [==============================] - 6s 184us/sample - loss: 0.0626 - acc: 0.9800 - val_loss: 0.0306 - val_acc: 0.9907\n",
      "Epoch 48/50\n",
      "31500/31500 [==============================] - 5s 169us/sample - loss: 0.0606 - acc: 0.9810 - val_loss: 0.0310 - val_acc: 0.9902\n",
      "Epoch 49/50\n",
      "31500/31500 [==============================] - 5s 171us/sample - loss: 0.0623 - acc: 0.9803 - val_loss: 0.0315 - val_acc: 0.9902\n",
      "Epoch 50/50\n",
      "31500/31500 [==============================] - 5s 158us/sample - loss: 0.0584 - acc: 0.9819 - val_loss: 0.0326 - val_acc: 0.9908\n"
     ]
    }
   ],
   "source": [
    "from tensorflow.keras.models import Sequential\n",
    "from tensorflow.keras.layers import Dense, Conv2D, Flatten#create model\n",
    "model = Sequential()#add model layers\n",
    "model.add(Conv2D(64, kernel_size=3, activation='relu', input_shape=(28,28,1)))\n",
    "model.add(keras.layers.MaxPooling2D())\n",
    "model.add(Dropout(0.4))\n",
    "model.add(Conv2D(32, kernel_size=3, activation='relu'))\n",
    "model.add(keras.layers.MaxPooling2D())\n",
    "model.add(Dropout(0.4))\n",
    "model.add(Conv2D(16,kernel_size=3,activation='relu'))\n",
    "model.add(Flatten())\n",
    "model.add(Dropout(0.4))\n",
    "model.add(Dense(100,activation='relu'))\n",
    "model.add(Dense(10, activation='softmax'))\n",
    "\n",
    "model.compile(optimizer='adam', loss='sparse_categorical_crossentropy', metrics=['accuracy'])\n",
    "\n",
    "early=keras.callbacks.EarlyStopping(monitor='val_acc',patience=10)\n",
    "history=keras.callbacks.History()\n",
    "\n",
    "hist=model.fit(x_train, y_train, epochs=50,callbacks=[history],validation_data=(x_val,y_val))"
   ]
  },
  {
   "cell_type": "code",
   "execution_count": 14,
   "metadata": {},
   "outputs": [
    {
     "data": {
      "image/png": "[encoded data removed]",
      "text/plain": [
       "<Figure size 432x288 with 1 Axes>"
      ]
     },
     "metadata": {
      "needs_background": "light"
     },
     "output_type": "display_data"
    },
    {
     "data": {
      "text/plain": [
       "(36, 36)"
      ]
     },
     "execution_count": 14,
     "metadata": {},
     "output_type": "execute_result"
    }
   ],
   "source": [
    "plt.plot(hist.history['val_loss'],'g.',label='Validation loss')\n",
    "plt.plot(hist.history['loss'],'b.',label='Training loss')\n",
    "plt.plot(hist.history['val_acc'],'g-',label='Validation accuracy')\n",
    "plt.plot(hist.history['acc'],'b-',label='Training accuracy')\n",
    "plt.legend(loc='best')\n",
    "plt.ylim(0,1)\n",
    "plt.xlabel('Epochs')\n",
    "plt.show()\n",
    "np.argmin(hist.history['val_loss']),np.argmax(hist.history['val_acc'])"
   ]
  },
  {
   "cell_type": "markdown",
   "metadata": {},
   "source": [
    "The plot shown above shows variation in performance parameters of our CNN. We get maximum validation accuracy around epoch=31 and minimum validation loss around epoch=39. \n",
    "Now all we have to do is train this CNN on complete training data set and see how we perform if the competetion"
   ]
  },
  {
   "cell_type": "code",
   "execution_count": null,
   "metadata": {},
   "outputs": [],
   "source": []
  }
 ],
 "metadata": {
  "kernelspec": {
   "display_name": "Python 3",
   "language": "python",
   "name": "python3"
  },
  "language_info": {
   "codemirror_mode": {
    "name": "ipython",
    "version": 3
   },
   "file_extension": ".py",
   "mimetype": "text/x-python",
   "name": "python",
   "nbconvert_exporter": "python",
   "pygments_lexer": "ipython3",
   "version": "3.7.3"
  }
 },
 "nbformat": 4,
 "nbformat_minor": 2
}
